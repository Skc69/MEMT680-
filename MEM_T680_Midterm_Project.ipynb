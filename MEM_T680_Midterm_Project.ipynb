{
  "nbformat": 4,
  "nbformat_minor": 0,
  "metadata": {
    "colab": {
      "provenance": [],
      "collapsed_sections": []
    },
    "kernelspec": {
      "name": "python3",
      "display_name": "Python 3"
    },
    "language_info": {
      "name": "python"
    }
  },
  "cells": [
    {
      "cell_type": "code",
      "execution_count": null,
      "metadata": {
        "id": "Oh4zMgf3K2Vy"
      },
      "outputs": [],
      "source": [
        "# Create a game of Craps\n",
        "import sys, random\n",
        "# Create a game of Craps in Python\n",
        "\n",
        "# I want the code to do the following:\n",
        "#  Define a class for Dice\n",
        "class Dice:  # Defines the class\n",
        "    pass  # passes when called\n",
        "    def __init__(self, die1, die2, total):\n",
        "        self.die1 = random.randint(1,6);\n",
        "        self.die2 = random.randint(1,6);\n",
        "    \n",
        "    def roll():\n",
        "      return(die1 + die2)\n",
        "\n",
        "roll_1 = roll()\n",
        "print(roll_1)\n",
        "\n",
        "\n",
        "\n",
        "\n",
        "# The Dice has a method Roll\n",
        "# Define a class for Table\n",
        "# The Table will inherit the Dice\n",
        "# The Table will have a state Point\n",
        "# Define a class for Player\n",
        "# Player will inherit from the Table\n",
        "# At initialization, ask the user to input a name for Player\n",
        "# Ask the player for bankroll (money on the table)\n",
        "# Only allow user to make bets in dollars\n",
        "# The script tells the player they can’t have a bankroll that can’t be converted to dollars\n",
        "# Try or Except may work here\n",
        "# If the bankroll can’t be converted, prompt the user for bankroll again\n",
        "# Decorator may work here\n",
        "# The script continually asks until the bankroll is valid\n",
        "\n",
        "\n",
        "\n"
      ]
    }
  ]
}