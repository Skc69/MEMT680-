{
  "nbformat": 4,
  "nbformat_minor": 0,
  "metadata": {
    "colab": {
      "provenance": [],
      "collapsed_sections": [],
      "authorship_tag": "ABX9TyNGmodB5ZIAWAKshjJwacpX",
      "include_colab_link": true
    },
    "kernelspec": {
      "name": "python3",
      "display_name": "Python 3"
    },
    "language_info": {
      "name": "python"
    }
  },
  "cells": [
    {
      "cell_type": "markdown",
      "metadata": {
        "id": "view-in-github",
        "colab_type": "text"
      },
      "source": [
        "<a href=\"https://colab.research.google.com/github/Skc69/MEMT680-/blob/main/MEM_T680_Midterm_Project.ipynb\" target=\"_parent\"><img src=\"https://colab.research.google.com/assets/colab-badge.svg\" alt=\"Open In Colab\"/></a>"
      ]
    },
    {
      "cell_type": "code",
      "execution_count": 22,
      "metadata": {
        "id": "Oh4zMgf3K2Vy",
        "colab": {
          "base_uri": "https://localhost:8080/",
          "height": 503
        },
        "outputId": "38ad474d-73ff-48c2-8936-cafc5e274db7"
      },
      "outputs": [
        {
          "output_type": "stream",
          "name": "stdout",
          "text": [
            "Enter your name, please: rod\n",
            "Please enter your bankroll: 555\n",
            "bankroll: 555\n",
            "Please enter your bankroll: 555\n",
            "bankroll: 555\n",
            "Please enter your bankroll: 555\n",
            "bankroll: 555\n"
          ]
        },
        {
          "output_type": "error",
          "ename": "KeyboardInterrupt",
          "evalue": "ignored",
          "traceback": [
            "\u001b[0;31m---------------------------------------------------------------------------\u001b[0m",
            "\u001b[0;31mKeyboardInterrupt\u001b[0m                         Traceback (most recent call last)",
            "\u001b[0;32m<ipython-input-22-714349cbf8c8>\u001b[0m in \u001b[0;36m<module>\u001b[0;34m\u001b[0m\n\u001b[1;32m     70\u001b[0m         \u001b[0;31m# The script continually asks until the bankroll is valid\u001b[0m\u001b[0;34m\u001b[0m\u001b[0;34m\u001b[0m\u001b[0;34m\u001b[0m\u001b[0m\n\u001b[1;32m     71\u001b[0m \u001b[0;34m\u001b[0m\u001b[0m\n\u001b[0;32m---> 72\u001b[0;31m \u001b[0mP1\u001b[0m \u001b[0;34m=\u001b[0m \u001b[0mPlayer\u001b[0m\u001b[0;34m(\u001b[0m\u001b[0;34m)\u001b[0m\u001b[0;34m\u001b[0m\u001b[0;34m\u001b[0m\u001b[0m\n\u001b[0m\u001b[1;32m     73\u001b[0m \u001b[0;31m# print(P1.name)\u001b[0m\u001b[0;34m\u001b[0m\u001b[0;34m\u001b[0m\u001b[0;34m\u001b[0m\u001b[0m\n\u001b[1;32m     74\u001b[0m \u001b[0;31m# print(P1.bankroll)\u001b[0m\u001b[0;34m\u001b[0m\u001b[0;34m\u001b[0m\u001b[0;34m\u001b[0m\u001b[0m\n",
            "\u001b[0;32m<ipython-input-22-714349cbf8c8>\u001b[0m in \u001b[0;36m__init__\u001b[0;34m(self)\u001b[0m\n\u001b[1;32m     60\u001b[0m         \u001b[0;31m# Ask the player for bankroll (money on the table)\u001b[0m\u001b[0;34m\u001b[0m\u001b[0;34m\u001b[0m\u001b[0;34m\u001b[0m\u001b[0m\n\u001b[1;32m     61\u001b[0m         \u001b[0;31m# Only allow user to make bets in dollars\u001b[0m\u001b[0;34m\u001b[0m\u001b[0;34m\u001b[0m\u001b[0;34m\u001b[0m\u001b[0m\n\u001b[0;32m---> 62\u001b[0;31m           \u001b[0mself\u001b[0m\u001b[0;34m.\u001b[0m\u001b[0mbankroll\u001b[0m \u001b[0;34m=\u001b[0m \u001b[0mint\u001b[0m\u001b[0;34m(\u001b[0m\u001b[0minput\u001b[0m\u001b[0;34m(\u001b[0m\u001b[0;34m\"Please enter your bankroll: \"\u001b[0m\u001b[0;34m)\u001b[0m\u001b[0;34m)\u001b[0m\u001b[0;34m\u001b[0m\u001b[0;34m\u001b[0m\u001b[0m\n\u001b[0m\u001b[1;32m     63\u001b[0m           \u001b[0mprint\u001b[0m\u001b[0;34m(\u001b[0m\u001b[0;34m\"bankroll:\"\u001b[0m\u001b[0;34m,\u001b[0m \u001b[0mself\u001b[0m\u001b[0;34m.\u001b[0m\u001b[0mbankroll\u001b[0m\u001b[0;34m)\u001b[0m\u001b[0;34m\u001b[0m\u001b[0;34m\u001b[0m\u001b[0m\n\u001b[1;32m     64\u001b[0m         \u001b[0;31m# The script tells the player they can’t have a bankroll that can’t be converted to dollars\u001b[0m\u001b[0;34m\u001b[0m\u001b[0;34m\u001b[0m\u001b[0;34m\u001b[0m\u001b[0m\n",
            "\u001b[0;32m/usr/local/lib/python3.7/dist-packages/ipykernel/kernelbase.py\u001b[0m in \u001b[0;36mraw_input\u001b[0;34m(self, prompt)\u001b[0m\n\u001b[1;32m    861\u001b[0m             \u001b[0mself\u001b[0m\u001b[0;34m.\u001b[0m\u001b[0m_parent_ident\u001b[0m\u001b[0;34m,\u001b[0m\u001b[0;34m\u001b[0m\u001b[0;34m\u001b[0m\u001b[0m\n\u001b[1;32m    862\u001b[0m             \u001b[0mself\u001b[0m\u001b[0;34m.\u001b[0m\u001b[0m_parent_header\u001b[0m\u001b[0;34m,\u001b[0m\u001b[0;34m\u001b[0m\u001b[0;34m\u001b[0m\u001b[0m\n\u001b[0;32m--> 863\u001b[0;31m             \u001b[0mpassword\u001b[0m\u001b[0;34m=\u001b[0m\u001b[0;32mFalse\u001b[0m\u001b[0;34m,\u001b[0m\u001b[0;34m\u001b[0m\u001b[0;34m\u001b[0m\u001b[0m\n\u001b[0m\u001b[1;32m    864\u001b[0m         )\n\u001b[1;32m    865\u001b[0m \u001b[0;34m\u001b[0m\u001b[0m\n",
            "\u001b[0;32m/usr/local/lib/python3.7/dist-packages/ipykernel/kernelbase.py\u001b[0m in \u001b[0;36m_input_request\u001b[0;34m(self, prompt, ident, parent, password)\u001b[0m\n\u001b[1;32m    902\u001b[0m             \u001b[0;32mexcept\u001b[0m \u001b[0mKeyboardInterrupt\u001b[0m\u001b[0;34m:\u001b[0m\u001b[0;34m\u001b[0m\u001b[0;34m\u001b[0m\u001b[0m\n\u001b[1;32m    903\u001b[0m                 \u001b[0;31m# re-raise KeyboardInterrupt, to truncate traceback\u001b[0m\u001b[0;34m\u001b[0m\u001b[0;34m\u001b[0m\u001b[0;34m\u001b[0m\u001b[0m\n\u001b[0;32m--> 904\u001b[0;31m                 \u001b[0;32mraise\u001b[0m \u001b[0mKeyboardInterrupt\u001b[0m\u001b[0;34m(\u001b[0m\u001b[0;34m\"Interrupted by user\"\u001b[0m\u001b[0;34m)\u001b[0m \u001b[0;32mfrom\u001b[0m \u001b[0;32mNone\u001b[0m\u001b[0;34m\u001b[0m\u001b[0;34m\u001b[0m\u001b[0m\n\u001b[0m\u001b[1;32m    905\u001b[0m             \u001b[0;32mexcept\u001b[0m \u001b[0mException\u001b[0m \u001b[0;32mas\u001b[0m \u001b[0me\u001b[0m\u001b[0;34m:\u001b[0m\u001b[0;34m\u001b[0m\u001b[0;34m\u001b[0m\u001b[0m\n\u001b[1;32m    906\u001b[0m                 \u001b[0mself\u001b[0m\u001b[0;34m.\u001b[0m\u001b[0mlog\u001b[0m\u001b[0;34m.\u001b[0m\u001b[0mwarning\u001b[0m\u001b[0;34m(\u001b[0m\u001b[0;34m\"Invalid Message:\"\u001b[0m\u001b[0;34m,\u001b[0m \u001b[0mexc_info\u001b[0m\u001b[0;34m=\u001b[0m\u001b[0;32mTrue\u001b[0m\u001b[0;34m)\u001b[0m\u001b[0;34m\u001b[0m\u001b[0;34m\u001b[0m\u001b[0m\n",
            "\u001b[0;31mKeyboardInterrupt\u001b[0m: Interrupted by user"
          ]
        }
      ],
      "source": [
        "# Create a game of Craps\n",
        "import sys, random\n",
        "# Create a game of Craps in Python\n",
        "\n",
        "# I want the code to do the following:\n",
        "#  Define a class for Dice\n",
        "# class Dice:\n",
        "\n",
        "# # The Dice has a method Roll\n",
        "#   def roll():\n",
        "#     die1 = random.randint(1,6)\n",
        "#     die2 = random.randint(1,6)\n",
        "#     total = die1 + die2\n",
        "\n",
        "#     print(die1)\n",
        "#     print(die2)\n",
        "#     print(total)\n",
        "\n",
        "#   roll()\n",
        "\n",
        "class dice:\n",
        "\n",
        "  def __init__(roll):\n",
        "        roll.die1 = random.randint(1,6)\n",
        "        roll.die2 = random.randint(1,6)\n",
        "        roll.total = int(roll.die1 + roll.die2)\n",
        "\n",
        "d1 = dice()\n",
        "# print(d1.die1)\n",
        "# print(d1.die2)\n",
        "# print(d1.total)\n",
        "\n",
        "\n",
        "# Define a class for Table\n",
        "class table(dice):  # Defines the class\n",
        "  \n",
        "# The Table will have a state Point\n",
        "  table_point = False;\n",
        "\n",
        "# The Table will inherit the Dice\n",
        "# t1 = table()\n",
        "# print(t1.table_point)\n",
        "# print(t1.die1)\n",
        "# print(t1.die2)\n",
        "# print(t1.total)  \n",
        "\n",
        "\n",
        "\n",
        "# Define a class for Player\n",
        "class Player(table):  # Defines the class\n",
        "# Player will inherit from the Table\n",
        "      # passes when called\n",
        "\n",
        "    def __init__(self):\n",
        "      super().__init__()\n",
        "      # At initialization, ask the user to input a name for Player\n",
        "      self.name = input(\"Enter your name, please: \")\n",
        "      while True:\n",
        "        try:\n",
        "        # Ask the player for bankroll (money on the table)\n",
        "        # Only allow user to make bets in dollars\n",
        "          self.bankroll = int(input(\"Please enter your bankroll: \"))\n",
        "          print(\"bankroll:\", self.bankroll)\n",
        "        # The script tells the player they can’t have a bankroll that can’t be converted to dollars\n",
        "        # Try or Except may work here\n",
        "        except ValueError:\n",
        "            print(\"Please input integer only...\")\n",
        "        continue     \n",
        "        # If the bankroll can’t be converted, prompt the user for bankroll again\n",
        "        # The script continually asks until the bankroll is valid    \n",
        "\n",
        "P1 = Player()\n",
        "# print(P1.name)\n",
        "# print(P1.bankroll)\n",
        "# print(P1.table_point)\n",
        "# print(P1.die1)\n",
        "# print(P1.die2)\n",
        "# print(P1.total)\n",
        "\n",
        "class Bets(Player):\n",
        "  pass  \n",
        "  # pass_line = 0;\n",
        "  # do_not_pass = 0; \n",
        "\n",
        "  odds_bet = int(input(\"Please enter your bets: \"))\n",
        "\n",
        "  def __init__(in_funds):\n",
        "      super().__init__()\n",
        "\n",
        "      while True:\n",
        "         if in_funds.bankroll <= in_funds.odds_bet:\n",
        "           try:\n",
        "             round(odds_bet)\n",
        "             print(\"You have placed a bet of: \", odds_bet)\n",
        "           except:\n",
        "             print(\"You have exceeded your bankroll, please re-enter.\")\n",
        "\n",
        "\n",
        "  \n",
        "           \n",
        "\n",
        "\n"
      ]
    }
  ]
}