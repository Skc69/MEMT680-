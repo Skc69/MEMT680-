# Create a game of Craps
import sys, random
# Create a game of Craps in Python

# I want the code to do the following:
#  Define a class for Dice
# class Dice:

# # The Dice has a method Roll
#   def roll():
#     die1 = random.randint(1,6)
#     die2 = random.randint(1,6)
#     total = die1 + die2

#     print(die1)
#     print(die2)
#     print(total)

#   roll()

class dice:

  def __init__(self):
        self.die1 = random.randint(1,6)
        self.die2 = random.randint(1,6)
        self.total = int(self.die1 + self.die2)

d1 = dice()
# print(d1.die1)
# print(d1.die2)
# print(d1.total)


# Define a class for Table
class table(dice):  # Defines the class
  
  table_point = True;

  pass
# The Table will inherit the Dice
t1 = table()
print(t1.table_point)
# print(t1.die1)
# print(t1.die2)
# print(t1.total)  

# The Table will have a state Point

# Define a class for Player
class Player(table):  # Defines the class
    pass  # passes when called

    def __init__(self):
      self.name = input("Enter your name, please: ")
      try:
        self.bankroll = int(input("Please enter your bankroll: "))
        print("num:", self.bankroll)
      except ValueError:
          print("Please input integer only...") 


# Player will inherit from the Table
P1 = Player()
print(P1.name)
print(P1.bankroll)

# At initialization, ask the user to input a name for Player
# Ask the player for bankroll (money on the table)
# Only allow user to make bets in dollars
# The script tells the player they can’t have a bankroll that can’t be converted to dollars
# Try or Except may work here
# If the bankroll can’t be converted, prompt the user for bankroll again
# Decorator may work here
# The script continually asks until the bankroll is valid



