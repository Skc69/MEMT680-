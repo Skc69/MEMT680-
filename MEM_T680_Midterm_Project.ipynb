{
  "nbformat": 4,
  "nbformat_minor": 0,
  "metadata": {
    "colab": {
      "provenance": [],
      "collapsed_sections": [],
      "authorship_tag": "ABX9TyORuXQ8EPkzOO9iQE4pX+8R",
      "include_colab_link": true
    },
    "kernelspec": {
      "name": "python3",
      "display_name": "Python 3"
    },
    "language_info": {
      "name": "python"
    }
  },
  "cells": [
    {
      "cell_type": "markdown",
      "metadata": {
        "id": "view-in-github",
        "colab_type": "text"
      },
      "source": [
        "<a href=\"https://colab.research.google.com/github/Skc69/MEMT680-/blob/main/MEM_T680_Midterm_Project.ipynb\" target=\"_parent\"><img src=\"https://colab.research.google.com/assets/colab-badge.svg\" alt=\"Open In Colab\"/></a>"
      ]
    },
    {
      "cell_type": "code",
      "execution_count": 12,
      "metadata": {
        "id": "Oh4zMgf3K2Vy",
        "colab": {
          "base_uri": "https://localhost:8080/"
        },
        "outputId": "eb5322af-b4ed-4668-ee55-8f1ca1b69a28"
      },
      "outputs": [
        {
          "output_type": "stream",
          "name": "stdout",
          "text": [
            "Enter your name, please: ROD\n",
            "Please enter your bankroll: 50\n",
            "num: 50\n",
            "ROD\n",
            "50\n",
            "False\n",
            "4\n",
            "3\n",
            "7\n"
          ]
        }
      ],
      "source": [
        "# Create a game of Craps\n",
        "import sys, random\n",
        "# Create a game of Craps in Python\n",
        "\n",
        "# I want the code to do the following:\n",
        "#  Define a class for Dice\n",
        "# class Dice:\n",
        "\n",
        "# # The Dice has a method Roll\n",
        "#   def roll():\n",
        "#     die1 = random.randint(1,6)\n",
        "#     die2 = random.randint(1,6)\n",
        "#     total = die1 + die2\n",
        "\n",
        "#     print(die1)\n",
        "#     print(die2)\n",
        "#     print(total)\n",
        "\n",
        "#   roll()\n",
        "\n",
        "class dice:\n",
        "\n",
        "  def __init__(roll):\n",
        "        roll.die1 = random.randint(1,6)\n",
        "        roll.die2 = random.randint(1,6)\n",
        "        roll.total = int(roll.die1 + roll.die2)\n",
        "\n",
        "d1 = dice()\n",
        "# print(d1.die1)\n",
        "# print(d1.die2)\n",
        "# print(d1.total)\n",
        "\n",
        "\n",
        "# Define a class for Table\n",
        "class table(dice):  # Defines the class\n",
        "  \n",
        "# The Table will have a state Point\n",
        "  table_point = False;\n",
        "\n",
        "# The Table will inherit the Dice\n",
        "# t1 = table()\n",
        "# print(t1.table_point)\n",
        "# print(t1.die1)\n",
        "# print(t1.die2)\n",
        "# print(t1.total)  \n",
        "\n",
        "\n",
        "\n",
        "# Define a class for Player\n",
        "class Player(table):  # Defines the class\n",
        "# Player will inherit from the Table\n",
        "      # passes when called\n",
        "\n",
        "    def __init__(self):\n",
        "      super().__init__()\n",
        "      # At initialization, ask the user to input a name for Player\n",
        "      self.name = input(\"Enter your name, please: \")\n",
        "      while True:\n",
        "        try:\n",
        "        # Ask the player for bankroll (money on the table)\n",
        "        # Only allow user to make bets in dollars\n",
        "          self.bankroll = int(input(\"Please enter your bankroll: \"))\n",
        "          print(\"num:\", self.bankroll)\n",
        "          break\n",
        "        # The script tells the player they can’t have a bankroll that can’t be converted to dollars\n",
        "        # Try or Except may work here\n",
        "        except ValueError:\n",
        "            print(\"Please input integer only...\") \n",
        "        # If the bankroll can’t be converted, prompt the user for bankroll again\n",
        "        # The script continually asks until the bankroll is valid    \n",
        "\n",
        "P1 = Player()\n",
        "print(P1.name)\n",
        "print(P1.bankroll)\n",
        "print(P1.table_point)\n",
        "print(P1.die1)\n",
        "print(P1.die2)\n",
        "print(P1.total)\n",
        "\n",
        "class Bets(Player):\n",
        "  pass  \n",
        "  # pass_line = 0;\n",
        "  # do_not_pass = 0; \n",
        "\n",
        "  # odds_bet = int(input(\"Please enter your bets: \"))\n",
        "\n",
        "  # def __init__(insufficient_funds):\n",
        "      # while True:\n",
        "      #    if self.bankroll = int(input(\"Please enter your bankroll: \"))\n",
        "\n",
        "\n"
      ]
    }
  ]
}