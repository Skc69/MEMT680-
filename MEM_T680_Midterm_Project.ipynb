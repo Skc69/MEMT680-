{
  "nbformat": 4,
  "nbformat_minor": 0,
  "metadata": {
    "colab": {
      "provenance": [],
      "collapsed_sections": [],
      "authorship_tag": "ABX9TyPaDlMur1vtvFxhqPOvBAyf",
      "include_colab_link": true
    },
    "kernelspec": {
      "name": "python3",
      "display_name": "Python 3"
    },
    "language_info": {
      "name": "python"
    }
  },
  "cells": [
    {
      "cell_type": "markdown",
      "metadata": {
        "id": "view-in-github",
        "colab_type": "text"
      },
      "source": [
        "<a href=\"https://colab.research.google.com/github/Skc69/MEMT680-/blob/main/MEM_T680_Midterm_Project.ipynb\" target=\"_parent\"><img src=\"https://colab.research.google.com/assets/colab-badge.svg\" alt=\"Open In Colab\"/></a>"
      ]
    },
    {
      "cell_type": "code",
      "execution_count": 54,
      "metadata": {
        "id": "Oh4zMgf3K2Vy",
        "colab": {
          "base_uri": "https://localhost:8080/",
          "height": 409
        },
        "outputId": "f0e5ed4d-0c80-4379-81dc-233489db633e"
      },
      "outputs": [
        {
          "output_type": "stream",
          "name": "stdout",
          "text": [
            "Enter your name, please: rod\n",
            "Please enter your bankroll: 550\n",
            "bankroll: 550\n"
          ]
        },
        {
          "output_type": "error",
          "ename": "AttributeError",
          "evalue": "ignored",
          "traceback": [
            "\u001b[0;31m---------------------------------------------------------------------------\u001b[0m",
            "\u001b[0;31mAttributeError\u001b[0m                            Traceback (most recent call last)",
            "\u001b[0;32m<ipython-input-54-9f782f91a455>\u001b[0m in \u001b[0;36m<module>\u001b[0;34m\u001b[0m\n\u001b[1;32m    110\u001b[0m \u001b[0mb1\u001b[0m \u001b[0;34m=\u001b[0m \u001b[0mBets\u001b[0m\u001b[0;34m(\u001b[0m\u001b[0;34m)\u001b[0m\u001b[0;34m\u001b[0m\u001b[0;34m\u001b[0m\u001b[0m\n\u001b[1;32m    111\u001b[0m \u001b[0mb1\u001b[0m\u001b[0;34m.\u001b[0m\u001b[0mInsufficient_funds\u001b[0m\u001b[0;34m\u001b[0m\u001b[0;34m\u001b[0m\u001b[0m\n\u001b[0;32m--> 112\u001b[0;31m \u001b[0mb1\u001b[0m\u001b[0;34m.\u001b[0m\u001b[0mpass_line\u001b[0m\u001b[0;34m(\u001b[0m\u001b[0;34m)\u001b[0m\u001b[0;34m\u001b[0m\u001b[0;34m\u001b[0m\u001b[0m\n\u001b[0m\u001b[1;32m    113\u001b[0m \u001b[0;34m\u001b[0m\u001b[0m\n\u001b[1;32m    114\u001b[0m \u001b[0;34m\u001b[0m\u001b[0m\n",
            "\u001b[0;32m<ipython-input-54-9f782f91a455>\u001b[0m in \u001b[0;36mpass_line\u001b[0;34m(self)\u001b[0m\n\u001b[1;32m     99\u001b[0m     \u001b[0;32mwhile\u001b[0m \u001b[0mself\u001b[0m\u001b[0;34m.\u001b[0m\u001b[0mtable_point\u001b[0m \u001b[0;34m==\u001b[0m \u001b[0;32mFalse\u001b[0m\u001b[0;34m:\u001b[0m\u001b[0;34m\u001b[0m\u001b[0;34m\u001b[0m\u001b[0m\n\u001b[1;32m    100\u001b[0m       \u001b[0mb1\u001b[0m\u001b[0;34m.\u001b[0m\u001b[0mInsufficient_funds\u001b[0m\u001b[0;34m\u001b[0m\u001b[0;34m\u001b[0m\u001b[0m\n\u001b[0;32m--> 101\u001b[0;31m       \u001b[0mprint\u001b[0m\u001b[0;34m(\u001b[0m\u001b[0;34m\"\"\u001b[0m\u001b[0;34m,\u001b[0m\u001b[0mself\u001b[0m\u001b[0;34m.\u001b[0m\u001b[0mname\u001b[0m\u001b[0;34m,\u001b[0m \u001b[0;34m\"has placed a bet of \"\u001b[0m\u001b[0;34m,\u001b[0m \u001b[0mself\u001b[0m\u001b[0;34m.\u001b[0m\u001b[0modds_bet\u001b[0m\u001b[0;34m,\u001b[0m \u001b[0;34m\"on the 'pass' line\"\u001b[0m\u001b[0;34m)\u001b[0m\u001b[0;34m\u001b[0m\u001b[0;34m\u001b[0m\u001b[0m\n\u001b[0m\u001b[1;32m    102\u001b[0m \u001b[0;34m\u001b[0m\u001b[0m\n\u001b[1;32m    103\u001b[0m   \u001b[0;32mdef\u001b[0m \u001b[0mdon_not_pass_line\u001b[0m\u001b[0;34m(\u001b[0m\u001b[0mself\u001b[0m\u001b[0;34m)\u001b[0m\u001b[0;34m:\u001b[0m\u001b[0;34m\u001b[0m\u001b[0;34m\u001b[0m\u001b[0m\n",
            "\u001b[0;31mAttributeError\u001b[0m: 'Bets' object has no attribute 'odds_bet'"
          ]
        }
      ],
      "source": [
        "# Create a game of Craps\n",
        "import sys, random\n",
        "# Create a game of Craps in Python\n",
        "\n",
        "# I want the code to do the following:\n",
        "#  Define a class for Dice\n",
        "# class Dice:\n",
        "\n",
        "# # The Dice has a method Roll\n",
        "#   def roll():\n",
        "#     die1 = random.randint(1,6)\n",
        "#     die2 = random.randint(1,6)\n",
        "#     total = die1 + die2\n",
        "\n",
        "#     print(die1)\n",
        "#     print(die2)\n",
        "#     print(total)\n",
        "\n",
        "#   roll()\n",
        "\n",
        "class dice:\n",
        "\n",
        "  def __init__(roll):\n",
        "        roll.die1 = random.randint(1,6)\n",
        "        roll.die2 = random.randint(1,6)\n",
        "        roll.total = int(roll.die1 + roll.die2)\n",
        "\n",
        "d1 = dice()\n",
        "# print(d1.die1)\n",
        "# print(d1.die2)\n",
        "# print(d1.total)\n",
        "\n",
        "\n",
        "# Define a class for Table\n",
        "class table(dice):  # Defines the class\n",
        "  \n",
        "# The Table will have a state Point\n",
        "  table_point = False;\n",
        "\n",
        "# The Table will inherit the Dice\n",
        "t1 = table()\n",
        "# print(t1.table_point)\n",
        "# print(t1.die1)\n",
        "# print(t1.die2)\n",
        "# print(t1.total)  \n",
        "\n",
        "\n",
        "\n",
        "# Define a class for Player\n",
        "class Player(table):  # Defines the class\n",
        "# Player will inherit from the Table\n",
        "      # passes when called\n",
        "\n",
        "    def __init__(self):\n",
        "      super().__init__()\n",
        "      # At initialization, ask the user to input a name for Player\n",
        "      self.name = input(\"Enter your name, please: \")\n",
        "      while True:\n",
        "        try:\n",
        "        # Ask the player for bankroll (money on the table)\n",
        "        # Only allow user to make bets in dollars\n",
        "          self.bankroll = int(input(\"Please enter your bankroll: \"))\n",
        "          print(\"bankroll:\", self.bankroll)\n",
        "          break\n",
        "        # The script tells the player they can’t have a bankroll that can’t be converted to dollars\n",
        "        # Try or Except may work here\n",
        "        except ValueError:\n",
        "            print(\"Please input integer only...\")\n",
        "        continue     \n",
        "        # If the bankroll can’t be converted, prompt the user for bankroll again\n",
        "        # The script continually asks until the bankroll is valid    \n",
        "\n",
        "# P1 = Player()\n",
        "# print(P1.name)\n",
        "# print(P1.bankroll)\n",
        "# print(P1.table_point)\n",
        "# print(P1.die1)\n",
        "# print(P1.die2)\n",
        "# print(P1.total)\n",
        "\n",
        "class Bets(Player):  \n",
        "  pass_line = 0;\n",
        "  do_not_pass = 0; \n",
        "\n",
        "  def __init__(self):\n",
        "    super().__init__()\n",
        "  def Insufficient_funds(self):\n",
        "    while True:\n",
        "      self.odds_bet = int(input(\"Please enter your bets: \"))\n",
        "      try:\n",
        "        if self.odds_bet < self.bankroll:\n",
        "          print( \"\",self.name,\" has placed a bet of: \", self.odds_bet)\n",
        "        else:\n",
        "          print(\"You have exceeded your bankroll, please re-enter.\")\n",
        "      except:\n",
        "        continue\n",
        "\n",
        "  def pass_line(self):\n",
        "    while self.table_point == False:\n",
        "      print(\"\",self.name, \"has placed a bet of \", self.odds_bet, \"on the 'pass' line\")\n",
        "\n",
        "  def don_not_pass_line(self):\n",
        "    while self.table_point == False:\n",
        "      print(\"\",self.name, \"has placed a bet of \", self.odds_bet, \"on the 'do not pass' line\")    \n",
        "              \n",
        "\n",
        "     \n",
        "b1 = Bets()\n",
        "b1.Insufficient_funds\n",
        "b1.pass_line()\n",
        "\n",
        "            \n",
        "\n",
        "\n"
      ]
    },
    {
      "cell_type": "code",
      "source": [],
      "metadata": {
        "id": "AOlXAztHqNNh"
      },
      "execution_count": null,
      "outputs": []
    }
  ]
}